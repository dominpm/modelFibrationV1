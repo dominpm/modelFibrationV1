{
 "cells": [
  {
   "cell_type": "code",
   "execution_count": 6,
   "id": "2be162d9",
   "metadata": {},
   "outputs": [],
   "source": [
    "import numpy as np\n",
    "from math import *"
   ]
  },
  {
   "cell_type": "markdown",
   "id": "54c5b9f6",
   "metadata": {},
   "source": [
    "Creo una clase de células ganglionales:"
   ]
  },
  {
   "cell_type": "code",
   "execution_count": 7,
   "id": "1e9cbcb8",
   "metadata": {},
   "outputs": [],
   "source": [
    "class GCell:\n",
    "    def __init__(self,):\n",
    "        self.recprof = lambda x,y : exp(-(x**2 + y**2) * exp(e*j*y))\n",
    "    \n",
    "    def output(self, image):\n",
    "        pass"
   ]
  },
  {
   "cell_type": "markdown",
   "id": "aac83d99",
   "metadata": {},
   "source": [
    "Creo otra clase para V1, que será un 'mapa' de células ganglionales"
   ]
  },
  {
   "cell_type": "code",
   "execution_count": 4,
   "id": "b2f6abea",
   "metadata": {},
   "outputs": [],
   "source": [
    "class V1:\n",
    "    def __init__(self, height, width):\n",
    "        #inicio un tablero con las células ganglionares bajo la acción del grupo E(2), rotaciones y traslaciones en el plano\n",
    "        pass"
   ]
  },
  {
   "cell_type": "code",
   "execution_count": null,
   "id": "1c00e784",
   "metadata": {},
   "outputs": [],
   "source": []
  }
 ],
 "metadata": {
  "kernelspec": {
   "display_name": "Python 3 (ipykernel)",
   "language": "python",
   "name": "python3"
  },
  "language_info": {
   "codemirror_mode": {
    "name": "ipython",
    "version": 3
   },
   "file_extension": ".py",
   "mimetype": "text/x-python",
   "name": "python",
   "nbconvert_exporter": "python",
   "pygments_lexer": "ipython3",
   "version": "3.10.0"
  }
 },
 "nbformat": 4,
 "nbformat_minor": 5
}
